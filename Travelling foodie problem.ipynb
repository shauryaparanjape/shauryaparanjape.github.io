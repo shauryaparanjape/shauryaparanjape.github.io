{
 "cells": [
  {
   "cell_type": "markdown",
   "metadata": {},
   "source": [
    "# The travelling foodie problem.\n",
    "\n",
    "Okay, I must admit that when I came up with this idea I was feeling really hungry! Being in a different country makes you miss your home town food. So I thought, if I had only one day in the best city in India (I know you might disagree but anyway...), which is Pune of course, which restaurants would I visit in the least amount of time.\n",
    "Instead of asking people what their opinions are on this, let's take a simple approach by scraping data from a website and let's rank restaurants by average reviews per number of reviews a particular restaurant received."
   ]
  },
  {
   "cell_type": "code",
   "execution_count": 6,
   "metadata": {},
   "outputs": [],
   "source": [
    "import requests\n",
    "import json\n",
    "from APIKeys import *\n",
    "\n",
    "base_url = 'https://developers.zomato.com/api/v2.1/search?entity_id=5&entity_type=city&sort=rating&order=desc&start='\n",
    "init = 0\n",
    "headers = {'Accept': 'application/json', 'user-key': zkey}\n",
    "restsList = []\n",
    "\n",
    "r = json.loads(requests.get(base_url + str(init), headers = headers).content.decode(\"utf-8\"))\n",
    "restsList.append(r['restaurants'])\n",
    "\n",
    "#print(restsList)\n",
    "dictList = []\n",
    "for i in restsList:\n",
    "    for j in i:\n",
    "        dictList.append(j['restaurant'])\n",
    "#for rests in r['restaurants']:\n",
    "#    print(rests['restaurant']['name'])\n",
    "import pandas as pd\n",
    "toprest = pd.DataFrame(dictList).drop('apikey',axis = 1)\n",
    "toprest['wrating'] = list(map(lambda rate: float(rate['aggregate_rating']),toprest['user_rating']))"
   ]
  },
  {
   "cell_type": "markdown",
   "metadata": {},
   "source": [
    "https://www.quora.com/How-does-zomato-rating-work"
   ]
  },
  {
   "cell_type": "code",
   "execution_count": 7,
   "metadata": {
    "collapsed": true
   },
   "outputs": [],
   "source": [
    "toprest.sort_values('wrating',ascending = False,inplace = True)\n",
    "toprest['longitude'] = list(map(lambda rate: float(rate['longitude']),toprest['location']))\n",
    "toprest['latitude'] = list(map(lambda rate: float(rate['latitude']),toprest['location']))\n",
    "toprest['address'] = list(map(lambda rate: rate['address'],toprest['location']))"
   ]
  },
  {
   "cell_type": "code",
   "execution_count": 8,
   "metadata": {},
   "outputs": [
    {
     "data": {
      "text/html": [
       "<div>\n",
       "<style scoped>\n",
       "    .dataframe tbody tr th:only-of-type {\n",
       "        vertical-align: middle;\n",
       "    }\n",
       "\n",
       "    .dataframe tbody tr th {\n",
       "        vertical-align: top;\n",
       "    }\n",
       "\n",
       "    .dataframe thead th {\n",
       "        text-align: right;\n",
       "    }\n",
       "</style>\n",
       "<table border=\"1\" class=\"dataframe\">\n",
       "  <thead>\n",
       "    <tr style=\"text-align: right;\">\n",
       "      <th></th>\n",
       "      <th>name</th>\n",
       "      <th>longitude</th>\n",
       "      <th>latitude</th>\n",
       "      <th>address</th>\n",
       "      <th>wrating</th>\n",
       "    </tr>\n",
       "  </thead>\n",
       "  <tbody>\n",
       "    <tr>\n",
       "      <th>0</th>\n",
       "      <td>Chili's American Grill &amp; Bar</td>\n",
       "      <td>73.917050</td>\n",
       "      <td>18.562406</td>\n",
       "      <td>UG 49, Phoenix Market City, Nagar Road, Viman ...</td>\n",
       "      <td>4.9</td>\n",
       "    </tr>\n",
       "    <tr>\n",
       "      <th>2</th>\n",
       "      <td>Arth</td>\n",
       "      <td>73.906198</td>\n",
       "      <td>18.539464</td>\n",
       "      <td>The Westin Pune, 36/-3B, Pingale Wasti, Korega...</td>\n",
       "      <td>4.9</td>\n",
       "    </tr>\n",
       "    <tr>\n",
       "      <th>3</th>\n",
       "      <td>Henny's Gourmet</td>\n",
       "      <td>73.902032</td>\n",
       "      <td>18.481553</td>\n",
       "      <td>Girme Heights. Salunkevihar Road. Next to ICIC...</td>\n",
       "      <td>4.9</td>\n",
       "    </tr>\n",
       "    <tr>\n",
       "      <th>4</th>\n",
       "      <td>Le Flamington</td>\n",
       "      <td>73.905952</td>\n",
       "      <td>18.553554</td>\n",
       "      <td>Plot 88, Survey 2016, East Avenue, Kalyani Nag...</td>\n",
       "      <td>4.9</td>\n",
       "    </tr>\n",
       "    <tr>\n",
       "      <th>5</th>\n",
       "      <td>La Kheer Deli</td>\n",
       "      <td>73.809039</td>\n",
       "      <td>18.556957</td>\n",
       "      <td>LKD, outside Starbucks, ITI road, Aundh-07.</td>\n",
       "      <td>4.9</td>\n",
       "    </tr>\n",
       "  </tbody>\n",
       "</table>\n",
       "</div>"
      ],
      "text/plain": [
       "                           name  longitude   latitude  \\\n",
       "0  Chili's American Grill & Bar  73.917050  18.562406   \n",
       "2                          Arth  73.906198  18.539464   \n",
       "3               Henny's Gourmet  73.902032  18.481553   \n",
       "4                 Le Flamington  73.905952  18.553554   \n",
       "5                 La Kheer Deli  73.809039  18.556957   \n",
       "\n",
       "                                             address  wrating  \n",
       "0  UG 49, Phoenix Market City, Nagar Road, Viman ...      4.9  \n",
       "2  The Westin Pune, 36/-3B, Pingale Wasti, Korega...      4.9  \n",
       "3  Girme Heights. Salunkevihar Road. Next to ICIC...      4.9  \n",
       "4  Plot 88, Survey 2016, East Avenue, Kalyani Nag...      4.9  \n",
       "5        LKD, outside Starbucks, ITI road, Aundh-07.      4.9  "
      ]
     },
     "execution_count": 8,
     "metadata": {},
     "output_type": "execute_result"
    }
   ],
   "source": [
    "toprest[[\"name\",\"longitude\",\"latitude\",\"address\",\"wrating\"]].head()"
   ]
  },
  {
   "cell_type": "code",
   "execution_count": 21,
   "metadata": {},
   "outputs": [],
   "source": [
    "#Starting location\n",
    "origlong = '73.908040'\n",
    "origlatitude  = '18.578980'\n",
    "locOrigin = origlatitude + ',' + origlong\n"
   ]
  },
  {
   "cell_type": "code",
   "execution_count": 22,
   "metadata": {},
   "outputs": [],
   "source": [
    "#Building the query to get the distances from google maps\n",
    "Gquery = 'https://maps.googleapis.com/maps/api/distancematrix/json?&key='\n",
    "Gquery = 'https://maps.googleapis.com/maps/api/distancematrix/json?&key='\n",
    "\n",
    "origins = locOrigin + \"|\" + \"|\".join((toprest['latitude'].apply(str) +',' + toprest['longitude'].apply(str)).tolist()[:3])\n",
    "\n",
    "\n",
    "DistMat = json.loads(requests.get(Gquery+ GApiKey+ '&origins=' + origins + '&destinations=' + origins).content.decode(\"utf-8\"))"
   ]
  },
  {
   "cell_type": "code",
   "execution_count": 23,
   "metadata": {},
   "outputs": [
    {
     "data": {
      "text/plain": [
       "['Pune Airport Departure, New Airport Rd, Pune International Airport Area, Sanjay Park, Pune, Maharashtra 411014, India',\n",
       " '207, Viman Nagar Rd, Clover Park, Viman Nagar, Pune, Maharashtra 411014, India',\n",
       " 'N Main Rd, Koregaon Park Annexe, Mundhwa, Pune, Maharashtra 411001, India',\n",
       " 'Empire Landmark, Salunke Vihar Road, Oxford Village, Kedari Nagar, Wanowrie, Pune, Maharashtra 411040, India']"
      ]
     },
     "execution_count": 23,
     "metadata": {},
     "output_type": "execute_result"
    }
   ],
   "source": [
    "DistMat['destination_addresses']"
   ]
  },
  {
   "cell_type": "code",
   "execution_count": 99,
   "metadata": {},
   "outputs": [
    {
     "data": {
      "text/plain": [
       "{'distance': {'text': '3.5 km', 'value': 3480},\n",
       " 'duration': {'text': '12 mins', 'value': 693},\n",
       " 'status': 'OK'}"
      ]
     },
     "execution_count": 99,
     "metadata": {},
     "output_type": "execute_result"
    }
   ],
   "source": [
    "DistMat['rows'][0]['elements'][2]"
   ]
  },
  {
   "cell_type": "code",
   "execution_count": 65,
   "metadata": {},
   "outputs": [],
   "source": [
    "matDistances = []\n",
    "for rows in DistMat['rows']:\n",
    "    rowsList = []\n",
    "    for elements in rows['elements']:\n",
    "        #print(elements['distance']['value'])\n",
    "        rowsList.append(elements['distance']['value'])\n",
    "    matDistances.append(rowsList)"
   ]
  },
  {
   "cell_type": "code",
   "execution_count": 27,
   "metadata": {},
   "outputs": [
    {
     "data": {
      "text/plain": [
       "[[0, 2966, 4961, 13462],\n",
       " [2949, 0, 4400, 13209],\n",
       " [8498, 7972, 0, 10731],\n",
       " [12086, 11559, 7919, 0]]"
      ]
     },
     "execution_count": 27,
     "metadata": {},
     "output_type": "execute_result"
    }
   ],
   "source": [
    "matDistances"
   ]
  },
  {
   "cell_type": "code",
   "execution_count": 64,
   "metadata": {},
   "outputs": [
    {
     "name": "stdout",
     "output_type": "stream",
     "text": [
      "Total distance: 30183 mtrs\n",
      "\n",
      "Route:\n",
      "\n",
      "Starting Location -> Chili's American Grill & Bar -> Arth -> Henny's Gourmet -> Starting Location\n"
     ]
    }
   ],
   "source": [
    "from ortools.constraint_solver import pywrapcp\n",
    "from ortools.constraint_solver import routing_enums_pb2\n",
    "\n",
    "# Distance callback\n",
    "def create_distance_callback(dist_matrix):\n",
    "# Create a callback to calculate distances between cities.\n",
    "\n",
    "    def distance_callback(from_node, to_node):\n",
    "        return int(dist_matrix[from_node][to_node])\n",
    "\n",
    "    return distance_callback\n",
    "\n",
    "\n",
    "# Cities\n",
    "lst = toprest.head(3)['name'].tolist()\n",
    "lst.insert( 0,\"Starting Location\") # Adding starting location to the list of places to visit.\n",
    "city_names = lst\n",
    "\n",
    "\n",
    "\n",
    "# Distance matrix\n",
    "dist_matrix = matDistances\n",
    "tsp_size = len(toprest.head(3)['name'].tolist()) + 1 # Adding starting location\n",
    "num_routes = 1\n",
    "depot = 0\n",
    "\n",
    "# Create routing model\n",
    "if tsp_size > 0:\n",
    "    routing = pywrapcp.RoutingModel(tsp_size, num_routes, depot)\n",
    "    search_parameters = pywrapcp.RoutingModel.DefaultSearchParameters()\n",
    "    # Create the distance callback.\n",
    "    dist_callback = create_distance_callback(dist_matrix)\n",
    "    routing.SetArcCostEvaluatorOfAllVehicles(dist_callback)\n",
    "    # Solve the problem.\n",
    "    assignment = routing.SolveWithParameters(search_parameters)\n",
    "    if assignment:\n",
    "      # Solution distance.\n",
    "        print (\"Total distance: \" + str(assignment.ObjectiveValue()) + \" mtrs\\n\")\n",
    "      # Display the solution.\n",
    "      # Only one route here; otherwise iterate from 0 to routing.vehicles() - 1\n",
    "        route_number = 0\n",
    "        index = routing.Start(route_number) # Index of the variable for the starting node.\n",
    "        route = ''\n",
    "        while not routing.IsEnd(index):\n",
    "        # Convert variable indices to node indices in the displayed route.\n",
    "            route += str(city_names[routing.IndexToNode(index)]) + ' -> '\n",
    "            index = assignment.Value(routing.NextVar(index))\n",
    "        route += str(city_names[routing.IndexToNode(index)])\n",
    "        print (\"Route:\\n\\n\" + route)\n",
    "    else:\n",
    "        print('No solution found.')\n",
    "else:\n",
    "    print ('Specify an instance greater than 0.')\n",
    "\n"
   ]
  },
  {
   "cell_type": "code",
   "execution_count": null,
   "metadata": {
    "collapsed": true
   },
   "outputs": [],
   "source": []
  }
 ],
 "metadata": {
  "kernelspec": {
   "display_name": "Python 3",
   "language": "python",
   "name": "python3"
  },
  "language_info": {
   "codemirror_mode": {
    "name": "ipython",
    "version": 3
   },
   "file_extension": ".py",
   "mimetype": "text/x-python",
   "name": "python",
   "nbconvert_exporter": "python",
   "pygments_lexer": "ipython3",
   "version": "3.6.4"
  }
 },
 "nbformat": 4,
 "nbformat_minor": 2
}
